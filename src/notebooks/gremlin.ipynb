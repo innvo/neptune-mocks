{
 "cells": [
  {
   "cell_type": "markdown",
   "metadata": {},
   "source": [
    "# Load"
   ]
  },
  {
   "cell_type": "markdown",
   "metadata": {},
   "source": [
    "## Delete all vertices"
   ]
  },
  {
   "cell_type": "code",
   "execution_count": 2,
   "metadata": {},
   "outputs": [
    {
     "name": "stdout",
     "output_type": "stream",
     "text": [
      "{\"results\":[]}"
     ]
    }
   ],
   "source": [
    "!curl -k -X POST \\\n",
    "  -H \"Content-Type: application/json\" \\\n",
    "  -H \"Accept: application/json\" \\\n",
    "  -d '{\"query\": \"MATCH (n) DETACH DELETE n\"}' \\\n",
    "  https://localhost:8182/opencypher"
   ]
  },
  {
   "cell_type": "markdown",
   "metadata": {},
   "source": [
    "# Display"
   ]
  },
  {
   "cell_type": "markdown",
   "metadata": {},
   "source": [
    "# 10 Person Nodes"
   ]
  },
  {
   "cell_type": "code",
   "execution_count": 3,
   "metadata": {},
   "outputs": [
    {
     "name": "stdout",
     "output_type": "stream",
     "text": [
      "{\"requestId\":\"b1cea60d-c7d0-4ac2-afde-ab60cb12d899\",\"status\":{\"message\":\"\",\"code\":200,\"attributes\":{\"@type\":\"g:Map\",\"@value\":[]}},\"result\":{\"data\":{\"@type\":\"g:List\",\"@value\":[{\"@type\":\"g:Vertex\",\"@value\":{\"id\":\"d9a07d51-34ca-47e1-8365-1678a5540e53\",\"label\":\"person\",\"properties\":{\"name_full_list\":[{\"@type\":\"g:VertexProperty\",\"@value\":{\"id\":{\"@type\":\"g:Int32\",\"@value\":-1917378837},\"value\":\"STEPHANIE LEE;LEE, STEPHANIE;S. LEE;LEE, S.;STEPHANIE L.;L. STEPHANIE\",\"label\":\"name_full_list\"}}],\"date_of_birth_list\":[{\"@type\":\"g:VertexProperty\",\"@value\":{\"id\":{\"@type\":\"g:Int32\",\"@value\":-327322953},\"value\":{\"@type\":\"g:Date\",\"@value\":604972800000},\"label\":\"date_of_birth_list\"}},{\"@type\":\"g:VertexProperty\",\"@value\":{\"id\":{\"@type\":\"g:Int32\",\"@value\":734509751},\"value\":{\"@type\":\"g:Date\",\"@value\":605145600000},\"label\":\"date_of_birth_list\"}},{\"@type\":\"g:VertexProperty\",\"@value\":{\"id\":{\"@type\":\"g:Int32\",\"@value\":179775159},\"value\":{\"@type\":\"g:Date\",\"@value\":605404800000},\"label\":\"date_of_birth_list\"}},{\"@type\":\"g:VertexProperty\",\"@value\":{\"id\":{\"@type\":\"g:Int32\",\"@value\":-374959402},\"value\":{\"@type\":\"g:Date\",\"@value\":605664000000},\"label\":\"date_of_birth_list\"}}],\"date_of_birth\":[{\"@type\":\"g:VertexProperty\",\"@value\":{\"id\":{\"@type\":\"g:Int32\",\"@value\":1410792202},\"value\":{\"@type\":\"g:Date\",\"@value\":605232000000},\"label\":\"date_of_birth\"}}],\"name_full\":[{\"@type\":\"g:VertexProperty\",\"@value\":{\"id\":{\"@type\":\"g:Int32\",\"@value\":-64618208},\"value\":\"STEPHANIE LEE\",\"label\":\"name_full\"}}]}}},{\"@type\":\"g:Vertex\",\"@value\":{\"id\":\"15f01e60-73ff-4256-a6ed-4d977b34fa2c\",\"label\":\"person\",\"properties\":{\"name_full_list\":[{\"@type\":\"g:VertexProperty\",\"@value\":{\"id\":{\"@type\":\"g:Int32\",\"@value\":123446749},\"value\":\"KATHERINE BENNETT;BENNETT, KATHERINE;K. BENNETT;BENNETT, K.;KATHERINE B.;B. KATHERINE\",\"label\":\"name_full_list\"}}],\"date_of_birth_list\":[{\"@type\":\"g:VertexProperty\",\"@value\":{\"id\":{\"@type\":\"g:Int32\",\"@value\":-2076752495},\"value\":{\"@type\":\"g:Date\",\"@value\":-462240000000},\"label\":\"date_of_birth_list\"}},{\"@type\":\"g:VertexProperty\",\"@value\":{\"id\":{\"@type\":\"g:Int32\",\"@value\":-460185199},\"value\":{\"@type\":\"g:Date\",\"@value\":-462153600000},\"label\":\"date_of_birth_list\"}},{\"@type\":\"g:VertexProperty\",\"@value\":{\"id\":{\"@type\":\"g:Int32\",\"@value\":-1522017903},\"value\":{\"@type\":\"g:Date\",\"@value\":-461980800000},\"label\":\"date_of_birth_list\"}},{\"@type\":\"g:VertexProperty\",\"@value\":{\"id\":{\"@type\":\"g:Int32\",\"@value\":1711116689},\"value\":{\"@type\":\"g:Date\",\"@value\":-461808000000},\"label\":\"date_of_birth_list\"}},{\"@type\":\"g:VertexProperty\",\"@value\":{\"id\":{\"@type\":\"g:Int32\",\"@value\":-967283311},\"value\":{\"@type\":\"g:Date\",\"@value\":-461721600000},\"label\":\"date_of_birth_list\"}}],\"date_of_birth\":[{\"@type\":\"g:VertexProperty\",\"@value\":{\"id\":{\"@type\":\"g:Int32\",\"@value\":770831844},\"value\":{\"@type\":\"g:Date\",\"@value\":-461980800000},\"label\":\"date_of_birth\"}}],\"name_full\":[{\"@type\":\"g:VertexProperty\",\"@value\":{\"id\":{\"@type\":\"g:Int32\",\"@value\":1222566760},\"value\":\"KATHERINE BENNETT\",\"label\":\"name_full\"}}]}}},{\"@type\":\"g:Vertex\",\"@value\":{\"id\":\"57ae6c77-b302-4157-8dd9-e9ad442d29fc\",\"label\":\"person\",\"properties\":{\"name_full_list\":[{\"@type\":\"g:VertexProperty\",\"@value\":{\"id\":{\"@type\":\"g:Int32\",\"@value\":2034650179},\"value\":\"JAMIE ARIAS;ARIAS, JAMIE;J. ARIAS;ARIAS, J.;JAMIE A.;A. JAMIE\",\"label\":\"name_full_list\"}}],\"date_of_birth_list\":[{\"@type\":\"g:VertexProperty\",\"@value\":{\"id\":{\"@type\":\"g:Int32\",\"@value\":2102539374},\"value\":{\"@type\":\"g:Date\",\"@value\":1038355200000},\"label\":\"date_of_birth_list\"}},{\"@type\":\"g:VertexProperty\",\"@value\":{\"id\":{\"@type\":\"g:Int32\",\"@value\":485972078},\"value\":{\"@type\":\"g:Date\",\"@value\":1038441600000},\"label\":\"date_of_birth_list\"}},{\"@type\":\"g:VertexProperty\",\"@value\":{\"id\":{\"@type\":\"g:Int32\",\"@value\":-1130595218},\"value\":{\"@type\":\"g:Date\",\"@value\":1038528000000},\"label\":\"date_of_birth_list\"}},{\"@type\":\"g:VertexProperty\",\"@value\":{\"id\":{\"@type\":\"g:Int32\",\"@value\":-1685329810},\"value\":{\"@type\":\"g:Date\",\"@value\":1038787200000},\"label\":\"date_of_birth_list\"}},{\"@type\":\"g:VertexProperty\",\"@value\":{\"id\":{\"@type\":\"g:Int32\",\"@value\":2054902894},\"value\":{\"@type\":\"g:Date\",\"@value\":1039046400000},\"label\":\"date_of_birth_list\"}}],\"date_of_birth\":[{\"@type\":\"g:VertexProperty\",\"@value\":{\"id\":{\"@type\":\"g:Int32\",\"@value\":607519937},\"value\":{\"@type\":\"g:Date\",\"@value\":1038787200000},\"label\":\"date_of_birth\"}}],\"name_full\":[{\"@type\":\"g:VertexProperty\",\"@value\":{\"id\":{\"@type\":\"g:Int32\",\"@value\":-1272906255},\"value\":\"JAMIE ARIAS\",\"label\":\"name_full\"}}]}}},{\"@type\":\"g:Vertex\",\"@value\":{\"id\":\"5d69d326-9841-4751-815a-751a9bf33382\",\"label\":\"person\",\"properties\":{\"name_full_list\":[{\"@type\":\"g:VertexProperty\",\"@value\":{\"id\":{\"@type\":\"g:Int32\",\"@value\":-797887297},\"value\":\"RICHARD LLOYD;LLOYD, RICHARD;R. LLOYD;LLOYD, R.;RICHARD L.;L. RICHARD\",\"label\":\"name_full_list\"}}],\"date_of_birth_list\":[{\"@type\":\"g:VertexProperty\",\"@value\":{\"id\":{\"@type\":\"g:Int32\",\"@value\":419954700},\"value\":{\"@type\":\"g:Date\",\"@value\":864777600000},\"label\":\"date_of_birth_list\"}},{\"@type\":\"g:VertexProperty\",\"@value\":{\"id\":{\"@type\":\"g:Int32\",\"@value\":1481787404},\"value\":{\"@type\":\"g:Date\",\"@value\":864950400000},\"label\":\"date_of_birth_list\"}},{\"@type\":\"g:VertexProperty\",\"@value\":{\"id\":{\"@type\":\"g:Int32\",\"@value\":927052812},\"value\":{\"@type\":\"g:Date\",\"@value\":865209600000},\"label\":\"date_of_birth_list\"}},{\"@type\":\"g:VertexProperty\",\"@value\":{\"id\":{\"@type\":\"g:Int32\",\"@value\":1988885516},\"value\":{\"@type\":\"g:Date\",\"@value\":865382400000},\"label\":\"date_of_birth_list\"}},{\"@type\":\"g:VertexProperty\",\"@value\":{\"id\":{\"@type\":\"g:Int32\",\"@value\":-1244249076},\"value\":{\"@type\":\"g:Date\",\"@value\":865555200000},\"label\":\"date_of_birth_list\"}}],\"date_of_birth\":[{\"@type\":\"g:VertexProperty\",\"@value\":{\"id\":{\"@type\":\"g:Int32\",\"@value\":541502559},\"value\":{\"@type\":\"g:Date\",\"@value\":865123200000},\"label\":\"date_of_birth\"}}],\"name_full\":[{\"@type\":\"g:VertexProperty\",\"@value\":{\"id\":{\"@type\":\"g:Int32\",\"@value\":-853253934},\"value\":\"RICHARD LLOYD\",\"label\":\"name_full\"}}]}}},{\"@type\":\"g:Vertex\",\"@value\":{\"id\":\"58e7505d-3944-4b9d-a1ee-827b350ab06c\",\"label\":\"person\",\"properties\":{\"name_full_list\":[{\"@type\":\"g:VertexProperty\",\"@value\":{\"id\":{\"@type\":\"g:Int32\",\"@value\":-193525735},\"value\":\"JOEL FLETCHER;FLETCHER, JOEL;J. FLETCHER;FLETCHER, J.;JOEL F.;F. JOEL\",\"label\":\"name_full_list\"}}],\"date_of_birth_list\":[{\"@type\":\"g:VertexProperty\",\"@value\":{\"id\":{\"@type\":\"g:Int32\",\"@value\":1053875151},\"value\":{\"@type\":\"g:Date\",\"@value\":-434764800000},\"label\":\"date_of_birth_list\"}},{\"@type\":\"g:VertexProperty\",\"@value\":{\"id\":{\"@type\":\"g:Int32\",\"@value\":-7957553},\"value\":{\"@type\":\"g:Date\",\"@value\":-434592000000},\"label\":\"date_of_birth_list\"}},{\"@type\":\"g:VertexProperty\",\"@value\":{\"id\":{\"@type\":\"g:Int32\",\"@value\":-2131622961},\"value\":{\"@type\":\"g:Date\",\"@value\":-434246400000},\"label\":\"date_of_birth_list\"}},{\"@type\":\"g:VertexProperty\",\"@value\":{\"id\":{\"@type\":\"g:Int32\",\"@value\":-515055665},\"value\":{\"@type\":\"g:Date\",\"@value\":-434160000000},\"label\":\"date_of_birth_list\"}},{\"@type\":\"g:VertexProperty\",\"@value\":{\"id\":{\"@type\":\"g:Int32\",\"@value\":1101511631},\"value\":{\"@type\":\"g:Date\",\"@value\":-434073600000},\"label\":\"date_of_birth_list\"}}],\"date_of_birth\":[{\"@type\":\"g:VertexProperty\",\"@value\":{\"id\":{\"@type\":\"g:Int32\",\"@value\":-393507806},\"value\":{\"@type\":\"g:Date\",\"@value\":-434505600000},\"label\":\"date_of_birth\"}}],\"name_full\":[{\"@type\":\"g:VertexProperty\",\"@value\":{\"id\":{\"@type\":\"g:Int32\",\"@value\":408935644},\"value\":\"JOEL FLETCHER\",\"label\":\"name_full\"}}]}}},{\"@type\":\"g:Vertex\",\"@value\":{\"id\":\"39787bf9-e88c-4429-959e-a47d2443f3d5\",\"label\":\"person\",\"properties\":{\"name_full_list\":[{\"@type\":\"g:VertexProperty\",\"@value\":{\"id\":{\"@type\":\"g:Int32\",\"@value\":633897627},\"value\":\"JENNIFER BROWN;BROWN, JENNIFER;J. BROWN;BROWN, J.;JENNIFER B.;B. JENNIFER\",\"label\":\"name_full_list\"}}],\"date_of_birth_list\":[{\"@type\":\"g:VertexProperty\",\"@value\":{\"id\":{\"@type\":\"g:Int32\",\"@value\":17179931},\"value\":{\"@type\":\"g:Date\",\"@value\":-7430400000},\"label\":\"date_of_birth_list\"}},{\"@type\":\"g:VertexProperty\",\"@value\":{\"id\":{\"@type\":\"g:Int32\",\"@value\":-1044652773},\"value\":{\"@type\":\"g:Date\",\"@value\":-7257600000},\"label\":\"date_of_birth_list\"}},{\"@type\":\"g:VertexProperty\",\"@value\":{\"id\":{\"@type\":\"g:Int32\",\"@value\":-2106485477},\"value\":{\"@type\":\"g:Date\",\"@value\":-7084800000},\"label\":\"date_of_birth_list\"}},{\"@type\":\"g:VertexProperty\",\"@value\":{\"id\":{\"@type\":\"g:Int32\",\"@value\":-489918181},\"value\":{\"@type\":\"g:Date\",\"@value\":-6998400000},\"label\":\"date_of_birth_list\"}},{\"@type\":\"g:VertexProperty\",\"@value\":{\"id\":{\"@type\":\"g:Int32\",\"@value\":64816411},\"value\":{\"@type\":\"g:Date\",\"@value\":-6739200000},\"label\":\"date_of_birth_list\"}}],\"date_of_birth\":[{\"@type\":\"g:VertexProperty\",\"@value\":{\"id\":{\"@type\":\"g:Int32\",\"@value\":1802931566},\"value\":{\"@type\":\"g:Date\",\"@value\":-6998400000},\"label\":\"date_of_birth\"}}],\"name_full\":[{\"@type\":\"g:VertexProperty\",\"@value\":{\"id\":{\"@type\":\"g:Int32\",\"@value\":-1039234612},\"value\":\"JENNIFER BROWN\",\"label\":\"name_full\"}}]}}},{\"@type\":\"g:Vertex\",\"@value\":{\"id\":\"7e57e83a-fe54-4822-9fc3-c0fa808c1ed7\",\"label\":\"person\",\"properties\":{\"name_full_list\":[{\"@type\":\"g:VertexProperty\",\"@value\":{\"id\":{\"@type\":\"g:Int32\",\"@value\":752005606},\"value\":\"ANGELA MILLER;MILLER, ANGELA;A. MILLER;MILLER, A.;ANGELA M.;M. ANGELA\",\"label\":\"name_full_list\"}}],\"date_of_birth_list\":[{\"@type\":\"g:VertexProperty\",\"@value\":{\"id\":{\"@type\":\"g:Int32\",\"@value\":-1988595973},\"value\":{\"@type\":\"g:Date\",\"@value\":985996800000},\"label\":\"date_of_birth_list\"}},{\"@type\":\"g:VertexProperty\",\"@value\":{\"id\":{\"@type\":\"g:Int32\",\"@value\":689804027},\"value\":{\"@type\":\"g:Date\",\"@value\":986083200000},\"label\":\"date_of_birth_list\"}},{\"@type\":\"g:VertexProperty\",\"@value\":{\"id\":{\"@type\":\"g:Int32\",\"@value\":-926763269},\"value\":{\"@type\":\"g:Date\",\"@value\":986169600000},\"label\":\"date_of_birth_list\"}},{\"@type\":\"g:VertexProperty\",\"@value\":{\"id\":{\"@type\":\"g:Int32\",\"@value\":1751636731},\"value\":{\"@type\":\"g:Date\",\"@value\":986256000000},\"label\":\"date_of_birth_list\"}},{\"@type\":\"g:VertexProperty\",\"@value\":{\"id\":{\"@type\":\"g:Int32\",\"@value\":642167547},\"value\":{\"@type\":\"g:Date\",\"@value\":986774400000},\"label\":\"date_of_birth_list\"}}],\"date_of_birth\":[{\"@type\":\"g:VertexProperty\",\"@value\":{\"id\":{\"@type\":\"g:Int32\",\"@value\":-1867048114},\"value\":{\"@type\":\"g:Date\",\"@value\":986342400000},\"label\":\"date_of_birth\"}}],\"name_full\":[{\"@type\":\"g:VertexProperty\",\"@value\":{\"id\":{\"@type\":\"g:Int32\",\"@value\":-1430248827},\"value\":\"ANGELA MILLER\",\"label\":\"name_full\"}}]}}},{\"@type\":\"g:Vertex\",\"@value\":{\"id\":\"67a4475f-950d-4ebd-abc0-5bb7f20b86f3\",\"label\":\"person\",\"properties\":{\"name_full_list\":[{\"@type\":\"g:VertexProperty\",\"@value\":{\"id\":{\"@type\":\"g:Int32\",\"@value\":1737898774},\"value\":\"SUSAN OWEN;OWEN, SUSAN;S. OWEN;OWEN, S.;SUSAN O.;O. SUSAN\",\"label\":\"name_full_list\"}}],\"date_of_birth_list\":[{\"@type\":\"g:VertexProperty\",\"@value\":{\"id\":{\"@type\":\"g:Int32\",\"@value\":-1032774182},\"value\":{\"@type\":\"g:Date\",\"@value\":284169600000},\"label\":\"date_of_birth_list\"}},{\"@type\":\"g:VertexProperty\",\"@value\":{\"id\":{\"@type\":\"g:Int32\",\"@value\":29058522},\"value\":{\"@type\":\"g:Date\",\"@value\":284342400000},\"label\":\"date_of_birth_list\"}},{\"@type\":\"g:VertexProperty\",\"@value\":{\"id\":{\"@type\":\"g:Int32\",\"@value\":1090891226},\"value\":{\"@type\":\"g:Date\",\"@value\":284515200000},\"label\":\"date_of_birth_list\"}},{\"@type\":\"g:VertexProperty\",\"@value\":{\"id\":{\"@type\":\"g:Int32\",\"@value\":-2142243366},\"value\":{\"@type\":\"g:Date\",\"@value\":284688000000},\"label\":\"date_of_birth_list\"}},{\"@type\":\"g:VertexProperty\",\"@value\":{\"id\":{\"@type\":\"g:Int32\",\"@value\":536156634},\"value\":{\"@type\":\"g:Date\",\"@value\":284774400000},\"label\":\"date_of_birth_list\"}}],\"date_of_birth\":[{\"@type\":\"g:VertexProperty\",\"@value\":{\"id\":{\"@type\":\"g:Int32\",\"@value\":1767173677},\"value\":{\"@type\":\"g:Date\",\"@value\":284601600000},\"label\":\"date_of_birth\"}}],\"name_full\":[{\"@type\":\"g:VertexProperty\",\"@value\":{\"id\":{\"@type\":\"g:Int32\",\"@value\":-733917577},\"value\":\"SUSAN OWEN\",\"label\":\"name_full\"}}]}}},{\"@type\":\"g:Vertex\",\"@value\":{\"id\":\"6cc3c32f-d010-4747-a621-c6ae02d1ac84\",\"label\":\"person\",\"properties\":{\"name_full_list\":[{\"@type\":\"g:VertexProperty\",\"@value\":{\"id\":{\"@type\":\"g:Int32\",\"@value\":-1800088538},\"value\":\"APRIL COLE;COLE, APRIL;A. COLE;COLE, A.;APRIL C.;C. APRIL\",\"label\":\"name_full_list\"}}],\"date_of_birth_list\":[{\"@type\":\"g:VertexProperty\",\"@value\":{\"id\":{\"@type\":\"g:Int32\",\"@value\":-840361176},\"value\":{\"@type\":\"g:Date\",\"@value\":516931200000},\"label\":\"date_of_birth_list\"}},{\"@type\":\"g:VertexProperty\",\"@value\":{\"id\":{\"@type\":\"g:Int32\",\"@value\":1838038824},\"value\":{\"@type\":\"g:Date\",\"@value\":517017600000},\"label\":\"date_of_birth_list\"}},{\"@type\":\"g:VertexProperty\",\"@value\":{\"id\":{\"@type\":\"g:Int32\",\"@value\":-1949830360},\"value\":{\"@type\":\"g:Date\",\"@value\":517449600000},\"label\":\"date_of_birth_list\"}},{\"@type\":\"g:VertexProperty\",\"@value\":{\"id\":{\"@type\":\"g:Int32\",\"@value\":728569640},\"value\":{\"@type\":\"g:Date\",\"@value\":517536000000},\"label\":\"date_of_birth_list\"}},{\"@type\":\"g:VertexProperty\",\"@value\":{\"id\":{\"@type\":\"g:Int32\",\"@value\":1790402344},\"value\":{\"@type\":\"g:Date\",\"@value\":517708800000},\"label\":\"date_of_birth_list\"}}],\"date_of_birth\":[{\"@type\":\"g:VertexProperty\",\"@value\":{\"id\":{\"@type\":\"g:Int32\",\"@value\":1959586683},\"value\":{\"@type\":\"g:Date\",\"@value\":517363200000},\"label\":\"date_of_birth\"}}],\"name_full\":[{\"@type\":\"g:VertexProperty\",\"@value\":{\"id\":{\"@type\":\"g:Int32\",\"@value\":-559381585},\"value\":\"APRIL COLE\",\"label\":\"name_full\"}}]}}},{\"@type\":\"g:Vertex\",\"@value\":{\"id\":\"94087064-41de-4c0d-8c55-a330ef94d50a\",\"label\":\"person\",\"properties\":{\"name_full_list\":[{\"@type\":\"g:VertexProperty\",\"@value\":{\"id\":{\"@type\":\"g:Int32\",\"@value\":-2032584415},\"value\":\"ROBERT OWEN;OWEN, ROBERT;R. OWEN;OWEN, R.;ROBERT O.;O. ROBERT\",\"label\":\"name_full_list\"}}],\"date_of_birth_list\":[{\"@type\":\"g:VertexProperty\",\"@value\":{\"id\":{\"@type\":\"g:Int32\",\"@value\":103580933},\"value\":{\"@type\":\"g:Date\",\"@value\":621648000000},\"label\":\"date_of_birth_list\"}},{\"@type\":\"g:VertexProperty\",\"@value\":{\"id\":{\"@type\":\"g:Int32\",\"@value\":-451153659},\"value\":{\"@type\":\"g:Date\",\"@value\":621907200000},\"label\":\"date_of_birth_list\"}},{\"@type\":\"g:VertexProperty\",\"@value\":{\"id\":{\"@type\":\"g:Int32\",\"@value\":610679045},\"value\":{\"@type\":\"g:Date\",\"@value\":622080000000},\"label\":\"date_of_birth_list\"}},{\"@type\":\"g:VertexProperty\",\"@value\":{\"id\":{\"@type\":\"g:Int32\",\"@value\":55944453},\"value\":{\"@type\":\"g:Date\",\"@value\":622339200000},\"label\":\"date_of_birth_list\"}},{\"@type\":\"g:VertexProperty\",\"@value\":{\"id\":{\"@type\":\"g:Int32\",\"@value\":-1560622843},\"value\":{\"@type\":\"g:Date\",\"@value\":622425600000},\"label\":\"date_of_birth_list\"}}],\"date_of_birth\":[{\"@type\":\"g:VertexProperty\",\"@value\":{\"id\":{\"@type\":\"g:Int32\",\"@value\":225128792},\"value\":{\"@type\":\"g:Date\",\"@value\":621993600000},\"label\":\"date_of_birth\"}}],\"name_full\":[{\"@type\":\"g:VertexProperty\",\"@value\":{\"id\":{\"@type\":\"g:Int32\",\"@value\":1271494804},\"value\":\"ROBERT OWEN\",\"label\":\"name_full\"}}]}}}]},\"meta\":{\"@type\":\"g:Map\",\"@value\":[]}}}"
     ]
    }
   ],
   "source": [
    "!curl -k -X POST \\\n",
    "  -H \"Content-Type: application/json\" \\\n",
    "  -d '{\"gremlin\":\"g.V().hasLabel(\\\"person\\\").limit(10)\"}' \\\n",
    "  https://localhost:8182/gremlin"
   ]
  },
  {
   "cell_type": "code",
   "execution_count": 1,
   "metadata": {},
   "outputs": [
    {
     "name": "stdout",
     "output_type": "stream",
     "text": [
      "{\"code\":\"MalformedQueryException\",\"requestId\":\"af9ac20c-a3ae-4321-814f-06ff521be551\",\"detailedMessage\":\"Failed to interpret Gremlin query: Query parsing failed at line 1, character position at 80, error message : no viable alternative at input 'g.V(\\\"d9a07d51-34ca-47e1-8365-1678a5540e53\\\").project(\\\"n\\\").by(valueMap(true).with(tokens'\",\"message\":\"Failed to interpret Gremlin query: Query parsing failed at line 1, character position at 80, error message : no viable alternative at input 'g.V(\\\"d9a07d51-34ca-47e1-8365-1678a5540e53\\\").project(\\\"n\\\").by(valueMap(true).with(tokens'\"}"
     ]
    }
   ],
   "source": [
    "!curl -k -X POST https://localhost:8182/gremlin \\\n",
    "  -H 'Content-Type: application/json' \\\n",
    "  -d '{\"gremlin\": \"g.V(\\\"d9a07d51-34ca-47e1-8365-1678a5540e53\\\").project(\\\"n\\\").by(valueMap(true).with(tokens))\"}'\n"
   ]
  },
  {
   "cell_type": "markdown",
   "metadata": {},
   "source": [
    "## Display vertices"
   ]
  }
 ],
 "metadata": {
  "kernelspec": {
   "display_name": ".venv",
   "language": "python",
   "name": "python3"
  },
  "language_info": {
   "codemirror_mode": {
    "name": "ipython",
    "version": 3
   },
   "file_extension": ".py",
   "mimetype": "text/x-python",
   "name": "python",
   "nbconvert_exporter": "python",
   "pygments_lexer": "ipython3",
   "version": "3.12.6"
  }
 },
 "nbformat": 4,
 "nbformat_minor": 2
}

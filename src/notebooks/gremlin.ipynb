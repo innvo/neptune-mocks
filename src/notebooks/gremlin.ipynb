{
 "cells": [
  {
   "cell_type": "markdown",
   "metadata": {},
   "source": [
    "# Load"
   ]
  },
  {
   "cell_type": "markdown",
   "metadata": {},
   "source": [
    "## Delete all vertices"
   ]
  },
  {
   "cell_type": "code",
   "execution_count": 2,
   "metadata": {},
   "outputs": [
    {
     "name": "stdout",
     "output_type": "stream",
     "text": [
      "{\"results\":[]}"
     ]
    }
   ],
   "source": [
    "!curl -k -X POST \\\n",
    "  -H \"Content-Type: application/json\" \\\n",
    "  -H \"Accept: application/json\" \\\n",
    "  -d '{\"query\": \"MATCH (n) DETACH DELETE n\"}' \\\n",
    "  https://localhost:8182/opencypher"
   ]
  },
  {
   "cell_type": "markdown",
   "metadata": {},
   "source": [
    "# Display"
   ]
  },
  {
   "cell_type": "code",
   "execution_count": 3,
   "metadata": {},
   "outputs": [
    {
     "name": "stdout",
     "output_type": "stream",
     "text": [
      "{\"requestId\":\"a25575a0-cfbf-4302-ada5-87de30170a1b\",\"status\":{\"message\":\"\",\"code\":200,\"attributes\":{\"@type\":\"g:Map\",\"@value\":[]}},\"result\":{\"data\":{\"@type\":\"g:List\",\"@value\":[{\"@type\":\"g:Map\",\"@value\":[\"name_full_list\",{\"@type\":\"g:List\",\"@value\":[\"JASON BRIGHT;BRIGHT, JASON;J. BRIGHT;BRIGHT, J.;JASON B.;B. JASON\"]},\"phone\",{\"@type\":\"g:List\",\"@value\":[\"(463)713-1856\"]},\"name_full\",{\"@type\":\"g:List\",\"@value\":[\"JASON BRIGHT\"]},\"date_of_birth_list\",{\"@type\":\"g:List\",\"@value\":[{\"@type\":\"g:Date\",\"@value\":941241600000},{\"@type\":\"g:Date\",\"@value\":941328000000},{\"@type\":\"g:Date\",\"@value\":941414400000},{\"@type\":\"g:Date\",\"@value\":941500800000},{\"@type\":\"g:Date\",\"@value\":941587200000},{\"@type\":\"g:Date\",\"@value\":941673600000}]},\"date_of_birth\",{\"@type\":\"g:List\",\"@value\":[{\"@type\":\"g:Date\",\"@value\":941500800000}]},{\"@type\":\"g:T\",\"@value\":\"label\"},\"person\",{\"@type\":\"g:T\",\"@value\":\"id\"},\"15f01e60-73ff-4256-a6ed-4d977b34fa2c\",\"email\",{\"@type\":\"g:List\",\"@value\":[\"RICHARDMOORE@EXAMPLE.NET\"]},\"ssn\",{\"@type\":\"g:List\",\"@value\":[\"740-23-7446\"]}]}]},\"meta\":{\"@type\":\"g:Map\",\"@value\":[]}}}"
     ]
    }
   ],
   "source": [
    "!curl -k -X POST \\\n",
    "  https://localhost:8182/gremlin \\\n",
    "  -H 'Content-Type: application/json' \\\n",
    "  -d '{ \"gremlin\": \"g.V('\\''15f01e60-73ff-4256-a6ed-4d977b34fa2c'\\'').valueMap(true)\" }'"
   ]
  },
  {
   "cell_type": "markdown",
   "metadata": {},
   "source": [
    "## Display vertices"
   ]
  }
 ],
 "metadata": {
  "kernelspec": {
   "display_name": ".venv",
   "language": "python",
   "name": "python3"
  },
  "language_info": {
   "codemirror_mode": {
    "name": "ipython",
    "version": 3
   },
   "file_extension": ".py",
   "mimetype": "text/x-python",
   "name": "python",
   "nbconvert_exporter": "python",
   "pygments_lexer": "ipython3",
   "version": "3.12.6"
  }
 },
 "nbformat": 4,
 "nbformat_minor": 2
}

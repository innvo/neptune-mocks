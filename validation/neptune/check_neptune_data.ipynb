{
 "cells": [
  {
   "cell_type": "markdown",
   "metadata": {},
   "source": [
    "curl -k -X POST \\\n",
    "    -H 'Content-Type: application/json' \\\n",
    "    https://localhost:8182/loader -d ' \\\n",
    "    {\n",
    "      \"source\" : \"s3://deam-neptune/opencypher_node_example.csv\",\n",
    "      \"format\" : \"opencypher\",\n",
    "      \"iamRoleArn\" : \"arn:aws:iam::244081531951:role/NeptuneLoadFromS3\",\n",
    "      \"region\" : \"us-east-1\",\n",
    "      \"failOnError\" : \"FALSE\",\n",
    "      \"parallelism\" : \"MEDIUM\",\n",
    "      \"updateSingleCardinalityProperties\" : \"FALSE\",\n",
    "      \"queueRequest\" : \"TRUE\"\n",
    "    }'"
   ]
  },
  {
   "cell_type": "code",
   "execution_count": 38,
   "metadata": {},
   "outputs": [
    {
     "name": "stdout",
     "output_type": "stream",
     "text": [
      "Found 5 CSV files in the bucket:\n",
      "  - neptune-load/20250409_124730/opencypher_node_example.csv\n",
      "  - neptune-load/20250409_125750/opencypher_node_example.csv\n",
      "  - neptune-load/20250409_131142/opencypher_node_example.csv\n",
      "  - neptune-load/20250409_131555/opencypher_node_example.csv\n",
      "  - opencypher_node_example.csv\n",
      "\n",
      "Loading file: neptune-load/20250409_124730/opencypher_node_example.csv\n",
      "Return code: 0\n",
      "Output: {\n",
      "    \"status\" : \"200 OK\",\n",
      "    \"payload\" : {\n",
      "        \"loadId\" : \"e2b8c415-7ee5-477b-9997-fdcf51f1e5e2\"\n",
      "    }\n",
      "}\n",
      "Error:   % Total    % Received % Xferd  Average Speed   Time    Time     Time  Current\n",
      "                                 Dload  Upload   Total   Spent    Left  Speed\n",
      "\n",
      "  0     0    0     0    0     0      0      0 --:--:-- --:--:-- --:--:--     0\n",
      "100   430  100   110  100   320    215    628 --:--:-- --:--:-- --:--:--   844\n",
      "\n",
      "\n",
      "Loading file: neptune-load/20250409_125750/opencypher_node_example.csv\n",
      "Return code: 0\n",
      "Output: {\n",
      "    \"status\" : \"200 OK\",\n",
      "    \"payload\" : {\n",
      "        \"loadId\" : \"a92dc967-7365-4e8c-a5dd-7c76c7bd62e5\"\n",
      "    }\n",
      "}\n",
      "Error:   % Total    % Received % Xferd  Average Speed   Time    Time     Time  Current\n",
      "                                 Dload  Upload   Total   Spent    Left  Speed\n",
      "\n",
      "  0     0    0     0    0     0      0      0 --:--:-- --:--:-- --:--:--     0\n",
      "100   430  100   110  100   320    248    724 --:--:-- --:--:-- --:--:--   972\n",
      "100   430  100   110  100   320    248    723 --:--:-- --:--:-- --:--:--   970\n",
      "\n",
      "\n",
      "Loading file: neptune-load/20250409_131142/opencypher_node_example.csv\n",
      "Return code: 0\n",
      "Output: {\n",
      "    \"status\" : \"200 OK\",\n",
      "    \"payload\" : {\n",
      "        \"loadId\" : \"8fec4b5b-f470-4453-9be6-8010ca6da8b8\"\n",
      "    }\n",
      "}\n",
      "Error:   % Total    % Received % Xferd  Average Speed   Time    Time     Time  Current\n",
      "                                 Dload  Upload   Total   Spent    Left  Speed\n",
      "\n",
      "  0     0    0     0    0     0      0      0 --:--:-- --:--:-- --:--:--     0\n",
      "100   430  100   110  100   320    233    677 --:--:-- --:--:-- --:--:--   911\n",
      "\n",
      "\n",
      "Loading file: neptune-load/20250409_131555/opencypher_node_example.csv\n",
      "Return code: 0\n",
      "Output: {\n",
      "    \"status\" : \"200 OK\",\n",
      "    \"payload\" : {\n",
      "        \"loadId\" : \"763629df-e897-4102-a034-f845828afadc\"\n",
      "    }\n",
      "}\n",
      "Error:   % Total    % Received % Xferd  Average Speed   Time    Time     Time  Current\n",
      "                                 Dload  Upload   Total   Spent    Left  Speed\n",
      "\n",
      "  0     0    0     0    0     0      0      0 --:--:-- --:--:-- --:--:--     0\n",
      "100   430  100   110  100   320    244    712 --:--:-- --:--:-- --:--:--   957\n",
      "\n",
      "\n",
      "Loading file: opencypher_node_example.csv\n",
      "Return code: 0\n",
      "Output: {\n",
      "    \"status\" : \"200 OK\",\n",
      "    \"payload\" : {\n",
      "        \"loadId\" : \"e0c973b8-d18b-4cfb-880d-5217fbdd160d\"\n",
      "    }\n",
      "}\n",
      "Error:   % Total    % Received % Xferd  Average Speed   Time    Time     Time  Current\n",
      "                                 Dload  Upload   Total   Spent    Left  Speed\n",
      "\n",
      "  0     0    0     0    0     0      0      0 --:--:-- --:--:-- --:--:--     0\n",
      "  0     0    0     0    0     0      0      0 --:--:-- --:--:-- --:--:--     0\n",
      "100   401  100   110  100   291    248    658 --:--:-- --:--:-- --:--:--   907\n",
      "\n"
     ]
    }
   ],
   "source": [
    "import subprocess\n",
    "import json\n",
    "import boto3\n",
    "\n",
    "# Initialize S3 client\n",
    "s3 = boto3.client('s3')\n",
    "\n",
    "# Bucket name\n",
    "bucket_name = 'deam-neptune'\n",
    "\n",
    "# List all CSV files in the bucket\n",
    "response = s3.list_objects_v2(Bucket=bucket_name)\n",
    "csv_files = [obj['Key'] for obj in response.get('Contents', []) if obj['Key'].endswith('.csv')]\n",
    "\n",
    "print(f\"Found {len(csv_files)} CSV files in the bucket:\")\n",
    "for file in csv_files:\n",
    "    print(f\"  - {file}\")\n",
    "\n",
    "# Process each CSV file\n",
    "for csv_file in csv_files:\n",
    "    print(f\"\\nLoading file: {csv_file}\")\n",
    "    \n",
    "    # Define the JSON payload\n",
    "    payload = {\n",
    "        \"source\": f\"s3://{bucket_name}/{csv_file}\",\n",
    "        \"format\": \"opencypher\",\n",
    "        \"iamRoleArn\": \"arn:aws:iam::244081531951:role/NeptuneLoadFromS3\",\n",
    "        \"region\": \"us-east-1\",\n",
    "        \"failOnError\": \"FALSE\",\n",
    "        \"parallelism\": \"MEDIUM\",\n",
    "        \"updateSingleCardinalityProperties\": \"FALSE\",\n",
    "        \"queueRequest\": \"TRUE\"\n",
    "    }\n",
    "    \n",
    "    # Convert the payload to a JSON string\n",
    "    json_payload = json.dumps(payload)\n",
    "    \n",
    "    # Build the curl command\n",
    "    curl_command = [\n",
    "        'curl', '-k', '-X', 'POST',\n",
    "        '-H', 'Content-Type: application/json',\n",
    "        'https://localhost:8182/loader',\n",
    "        '-d', json_payload\n",
    "    ]\n",
    "    \n",
    "    # Run the command\n",
    "    result = subprocess.run(curl_command, capture_output=True, text=True)\n",
    "    print(f\"Return code: {result.returncode}\")\n",
    "    print(f\"Output: {result.stdout}\")\n",
    "    \n",
    "    # Only print error if there was one\n",
    "    if result.stderr:\n",
    "        print(f\"Error: {result.stderr}\")"
   ]
  },
  {
   "cell_type": "code",
   "execution_count": 36,
   "metadata": {},
   "outputs": [
    {
     "name": "stdout",
     "output_type": "stream",
     "text": [
      "Return code: 0\n",
      "Output: {\n",
      "    \"status\" : \"200 OK\",\n",
      "    \"payload\" : {\n",
      "        \"loadId\" : \"b1d476b3-a666-4766-83ab-254be2ac2539\"\n",
      "    }\n",
      "}\n",
      "Error:   % Total    % Received % Xferd  Average Speed   Time    Time     Time  Current\n",
      "                                 Dload  Upload   Total   Spent    Left  Speed\n",
      "\n",
      "  0     0    0     0    0     0      0      0 --:--:-- --:--:-- --:--:--     0\n",
      "  0     0    0     0    0     0      0      0 --:--:-- --:--:-- --:--:--     0\n",
      "100   401  100   110  100   291    199    527 --:--:-- --:--:-- --:--:--   726\n",
      "\n"
     ]
    }
   ],
   "source": [
    "import subprocess\n",
    "import json\n",
    "\n",
    "# Define the JSON payload with proper formatting\n",
    "payload = {\n",
    "    \"source\": \"s3://deam-neptune/opencypher_node_example.csv\",\n",
    "    \"format\": \"opencypher\",\n",
    "    \"iamRoleArn\": \"arn:aws:iam::244081531951:role/NeptuneLoadFromS3\",\n",
    "    \"region\": \"us-east-1\",\n",
    "    \"failOnError\": \"FALSE\",\n",
    "    \"parallelism\": \"MEDIUM\",\n",
    "    \"updateSingleCardinalityProperties\": \"FALSE\",\n",
    "    \"queueRequest\": \"TRUE\"\n",
    "}\n",
    "\n",
    "# Convert the payload to a JSON string\n",
    "json_payload = json.dumps(payload)\n",
    "\n",
    "# Build the curl command\n",
    "curl_command = [\n",
    "    'curl', '-k', '-X', 'POST',\n",
    "    '-H', 'Content-Type: application/json',\n",
    "    'https://localhost:8182/loader',\n",
    "    '-d', json_payload\n",
    "]\n",
    "\n",
    "# Run the command\n",
    "result = subprocess.run(curl_command, capture_output=True, text=True)\n",
    "print(f\"Return code: {result.returncode}\")\n",
    "print(f\"Output: {result.stdout}\")\n",
    "print(f\"Error: {result.stderr}\")"
   ]
  },
  {
   "cell_type": "code",
   "execution_count": 22,
   "metadata": {},
   "outputs": [
    {
     "ename": "IndentationError",
     "evalue": "unindent does not match any outer indentation level (<string>, line 11)",
     "output_type": "error",
     "traceback": [
      "  \u001b[36mFile \u001b[39m\u001b[32m<string>:11\u001b[39m\n\u001b[31m    \u001b[39m\u001b[31m}'\u001b[39m\n      ^\n\u001b[31mIndentationError\u001b[39m\u001b[31m:\u001b[39m unindent does not match any outer indentation level\n"
     ]
    }
   ],
   "source": [
    "!curl -k -X POST \\\n",
    "  -H 'Content-Type: application/json' \\\n",
    "  https://localhost:8182/loader \\\n",
    "  -d '{\n",
    "    \"source\": \"s3://bucket-name/object-key-name\",\n",
    "    \"format\": \"format\",\n",
    "    \"iamRoleArn\": \"arn:aws:iam::account-id:role/role-name\",\n",
    "    \"region\": \"region\",\n",
    "    \"failOnError\": \"FALSE\",\n",
    "    \"parallelism\": \"MEDIUM\",\n",
    "    \"updateSingleCardinalityProperties\": \"FALSE\",\n",
    "    \"queueRequest\": \"TRUE\",\n",
    "    \"dependencies\": [\"load_A_id\", \"load_B_id\"]\n",
    "  }'"
   ]
  },
  {
   "cell_type": "code",
   "execution_count": 23,
   "metadata": {},
   "outputs": [
    {
     "name": "stderr",
     "output_type": "stream",
     "text": [
      "1383.07s - pydevd: Sending message related to process being replaced timed-out after 5 seconds\n"
     ]
    },
    {
     "name": "stdout",
     "output_type": "stream",
     "text": [
      "{\"status\":\"healthy\",\"startTime\":\"Wed Apr 09 16:37:35 UTC 2025\",\"dbEngineVersion\":\"1.4.4.0.R1\",\"role\":\"writer\",\"dfeQueryEngine\":\"viaQueryHint\",\"gremlin\":{\"version\":\"tinkerpop-3.7.1\"},\"sparql\":{\"version\":\"sparql-1.1\"},\"opencypher\":{\"version\":\"Neptune-9.0.20190305-1.0\"},\"labMode\":{\"ObjectIndex\":\"disabled\",\"ReadWriteConflictDetection\":\"enabled\"},\"features\":{\"SlowQueryLogs\":\"disabled\",\"InlineServerGeneratedEdgeId\":\"disabled\",\"ResultCache\":{\"status\":\"disabled\"},\"IAMAuthentication\":\"disabled\",\"Streams\":\"disabled\",\"AuditLog\":\"disabled\"},\"settings\":{\"StrictTimeoutValidation\":\"true\",\"clusterQueryTimeoutInMs\":\"120000\",\"SlowQueryLogsThreshold\":\"5000\"},\"serverlessConfiguration\":{\"minCapacity\":\"1.0\",\"maxCapacity\":\"16.0\"}}"
     ]
    }
   ],
   "source": [
    "!curl -k https://localhost:8182/status"
   ]
  },
  {
   "cell_type": "code",
   "execution_count": 39,
   "metadata": {},
   "outputs": [
    {
     "name": "stderr",
     "output_type": "stream",
     "text": [
      "3249.99s - pydevd: Sending message related to process being replaced timed-out after 5 seconds\n"
     ]
    },
    {
     "name": "stdout",
     "output_type": "stream",
     "text": [
      "{\n",
      "  \"results\": [{\n",
      "      \"n\": {\n",
      "        \"~id\": \"v1\",\n",
      "        \"~entityType\": \"node\",\n",
      "        \"~labels\": [\"person\"],\n",
      "        \"~properties\": {\n",
      "          \"name\": \"marko\",\n",
      "          \"age\": 29\n",
      "        }\n",
      "      }\n",
      "    }, {\n",
      "      \"n\": {\n",
      "        \"~id\": \"v2\",\n",
      "        \"~entityType\": \"node\",\n",
      "        \"~labels\": [\"software\"],\n",
      "        \"~properties\": {\n",
      "          \"name\": \"lop\",\n",
      "          \"lang\": \"java\"\n",
      "        }\n",
      "      }\n",
      "    }]\n",
      "}"
     ]
    }
   ],
   "source": [
    "!curl -k -X POST \\\n",
    "  https://localhost:8182/opencypher \\\n",
    "  -H 'Content-Type: application/json' \\\n",
    "  -H 'Accept: application/json' \\\n",
    "  -d '{\"query\": \"MATCH (n) RETURN n LIMIT 5\"}'"
   ]
  }
 ],
 "metadata": {
  "kernelspec": {
   "display_name": "venv",
   "language": "python",
   "name": "python3"
  },
  "language_info": {
   "codemirror_mode": {
    "name": "ipython",
    "version": 3
   },
   "file_extension": ".py",
   "mimetype": "text/x-python",
   "name": "python",
   "nbconvert_exporter": "python",
   "pygments_lexer": "ipython3",
   "version": "3.12.6"
  }
 },
 "nbformat": 4,
 "nbformat_minor": 2
}
